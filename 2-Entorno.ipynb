{
 "cells": [
  {
   "cell_type": "markdown",
   "metadata": {},
   "source": [
    "# Comandos para crear un entorno virtual en Python"
   ]
  },
  {
   "cell_type": "markdown",
   "metadata": {},
   "source": [
    "~~~\n",
    "   python3 -m venv env \n",
    "   env\\bin\\activate\n",
    "   pip freeze\n",
    "   pip install python-dateutil\n",
    "   pip freeze\n",
    "   deactivate\n",
    "~~~"
   ]
  }
 ],
 "metadata": {
  "language_info": {
   "name": "python"
  },
  "orig_nbformat": 4
 },
 "nbformat": 4,
 "nbformat_minor": 2
}
